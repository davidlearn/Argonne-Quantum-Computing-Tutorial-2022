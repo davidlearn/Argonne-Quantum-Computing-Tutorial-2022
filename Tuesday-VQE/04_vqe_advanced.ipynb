{
 "cells": [
  {
   "cell_type": "markdown",
   "metadata": {},
   "source": [
    "# Advanced VQE usage\n",
    "\n",
    "There exist several parameters for configuring and using more advanced [VQE](https://qiskit.org/documentation/stubs/qiskit.algorithms.VQE.html) capabilities. This tutorial will cover the parameters such as `initial point`, `expectation` and `gradient`.\n",
    "\n",
    "It will also cover advanced simulator use such as using Aer with the Matrix Product State method."
   ]
  },
  {
   "cell_type": "code",
   "execution_count": 1,
   "metadata": {},
   "outputs": [
    {
     "name": "stderr",
     "output_type": "stream",
     "text": [
      "<frozen importlib._bootstrap>:219: RuntimeWarning: scipy._lib.messagestream.MessageStream size changed, may indicate binary incompatibility. Expected 56 from C header, got 64 from PyObject\n"
     ]
    }
   ],
   "source": [
    "import warnings\n",
    "warnings.filterwarnings(\"ignore\", category=DeprecationWarning) \n",
    "\n",
    "from qiskit import Aer\n",
    "from qiskit.opflow import X, Z, I\n",
    "from qiskit.utils import QuantumInstance, algorithm_globals\n",
    "from qiskit.algorithms import VQE\n",
    "from qiskit.algorithms.optimizers import SLSQP\n",
    "from qiskit.circuit.library import TwoLocal"
   ]
  },
  {
   "cell_type": "markdown",
   "metadata": {},
   "source": [
    "Here we will use the same operator as used in the other VQE algorithms tutorials."
   ]
  },
  {
   "cell_type": "code",
   "execution_count": 2,
   "metadata": {},
   "outputs": [],
   "source": [
    "H2_op = (-1.052373245772859 * I ^ I) + \\\n",
    "        (0.39793742484318045 * I ^ Z) + \\\n",
    "        (-0.39793742484318045 * Z ^ I) + \\\n",
    "        (-0.01128010425623538 * Z ^ Z) + \\\n",
    "        (0.18093119978423156 * X ^ X)"
   ]
  },
  {
   "cell_type": "markdown",
   "metadata": {},
   "source": [
    "## Initial point\n",
    "\n",
    "The `initial_point` parameter allows the optimization to begin at the given point, where the point is a list of parameters that will configure the ansatz. By default the initial point is `None` which means that VQE will choose one. The choice in in this case is if the supplied ansatz has a preferred point, based on the initial state provided to it, then this will be chosen, otherwise a random initial point that fits with any bounds the ansatz has will be chosen. If an initial point is supplied it will take priority though and be used - note though it must match in length to the number of parameters in the ansatz circuit.\n",
    "\n",
    "Why to use a initial point? One reason would be if you have guess a reasonable starting point for the problem or perhaps know have information from a prior experiment.\n",
    "\n",
    "To demonstrate the use let's first simply repeat the first working example from the [algorithms introduction](01_algorithms_introduction.ipynb#A-complete-working-example) tutorial to get a solution's optimal point."
   ]
  },
  {
   "cell_type": "code",
   "execution_count": 3,
   "metadata": {},
   "outputs": [
    {
     "name": "stdout",
     "output_type": "stream",
     "text": [
      "{   'aux_operator_eigenvalues': None,\n",
      "    'cost_function_evals': 65,\n",
      "    'eigenstate': array([ 9.55146158e-05+0.j, -9.93766272e-01+0.j,  1.11483575e-01+0.j,\n",
      "        1.77493990e-05+0.j]),\n",
      "    'eigenvalue': (-1.8572750175664259+0j),\n",
      "    'optimal_parameters': {   ParameterVectorElement(θ[6]): -4.717618171283927,\n",
      "                              ParameterVectorElement(θ[7]): 0.3602072577510429,\n",
      "                              ParameterVectorElement(θ[1]): 4.426962083985579,\n",
      "                              ParameterVectorElement(θ[2]): 0.5470754664946292,\n",
      "                              ParameterVectorElement(θ[0]): 4.296520455019831,\n",
      "                              ParameterVectorElement(θ[3]): 6.092947779034692,\n",
      "                              ParameterVectorElement(θ[4]): -2.5983258978150006,\n",
      "                              ParameterVectorElement(θ[5]): 1.5683260003556614},\n",
      "    'optimal_point': array([ 4.29652046,  4.42696208,  0.54707547,  6.09294778, -2.5983259 ,\n",
      "        1.568326  , -4.71761817,  0.36020726]),\n",
      "    'optimal_value': -1.8572750175664259,\n",
      "    'optimizer_evals': None,\n",
      "    'optimizer_time': 0.1432030200958252}\n"
     ]
    }
   ],
   "source": [
    "seed = 50\n",
    "algorithm_globals.random_seed = seed\n",
    "qi = QuantumInstance(Aer.get_backend('statevector_simulator'), seed_transpiler=seed, seed_simulator=seed)\n",
    "\n",
    "ansatz = TwoLocal(rotation_blocks='ry', entanglement_blocks='cz')\n",
    "slsqp = SLSQP(maxiter=1000)\n",
    "vqe = VQE(ansatz, optimizer=slsqp, quantum_instance=qi)\n",
    "result = vqe.compute_minimum_eigenvalue(operator=H2_op)\n",
    "print(result)\n",
    "optimizer_evals = result.optimizer_evals"
   ]
  },
  {
   "cell_type": "markdown",
   "metadata": {},
   "source": [
    "Now we can take the `optimal_point` from the above result and use it as the `initial_point` here."
   ]
  },
  {
   "cell_type": "code",
   "execution_count": 4,
   "metadata": {},
   "outputs": [
    {
     "name": "stdout",
     "output_type": "stream",
     "text": [
      "{   'aux_operator_eigenvalues': None,\n",
      "    'cost_function_evals': 9,\n",
      "    'eigenstate': array([ 9.55146158e-05+0.j, -9.93766272e-01+0.j,  1.11483575e-01+0.j,\n",
      "        1.77493990e-05+0.j]),\n",
      "    'eigenvalue': (-1.8572750175664259+0j),\n",
      "    'optimal_parameters': {   ParameterVectorElement(θ[1]): 4.426962083985579,\n",
      "                              ParameterVectorElement(θ[2]): 0.5470754664946292,\n",
      "                              ParameterVectorElement(θ[0]): 4.296520455019831,\n",
      "                              ParameterVectorElement(θ[3]): 6.092947779034692,\n",
      "                              ParameterVectorElement(θ[5]): 1.5683260003556614,\n",
      "                              ParameterVectorElement(θ[6]): -4.717618171283927,\n",
      "                              ParameterVectorElement(θ[7]): 0.3602072577510429,\n",
      "                              ParameterVectorElement(θ[4]): -2.5983258978150006},\n",
      "    'optimal_point': array([ 4.29652046,  4.42696208,  0.54707547,  6.09294778, -2.5983259 ,\n",
      "        1.568326  , -4.71761817,  0.36020726]),\n",
      "    'optimal_value': -1.8572750175664259,\n",
      "    'optimizer_evals': None,\n",
      "    'optimizer_time': 0.01780390739440918}\n",
      "\n",
      "optimizer_evals is None with initial point versus None without it.\n"
     ]
    }
   ],
   "source": [
    "initial_pt = result.optimal_point\n",
    "\n",
    "algorithm_globals.random_seed = seed\n",
    "qi = QuantumInstance(Aer.get_backend('statevector_simulator'), seed_transpiler=seed, seed_simulator=seed)\n",
    "\n",
    "ansatz = TwoLocal(rotation_blocks='ry', entanglement_blocks='cz')\n",
    "slsqp = SLSQP(maxiter=1000)\n",
    "vqe = VQE(ansatz, optimizer=slsqp, initial_point=initial_pt, quantum_instance=qi)\n",
    "result1 = vqe.compute_minimum_eigenvalue(operator=H2_op)\n",
    "print(result1)\n",
    "optimizer_evals1 = result1.optimizer_evals\n",
    "print()\n",
    "print(f'optimizer_evals is {optimizer_evals1} with initial point versus {optimizer_evals} without it.')"
   ]
  },
  {
   "cell_type": "markdown",
   "metadata": {},
   "source": [
    "Here we see that result was arrived at much more quickly with `optimizer_evals` when it started from a random value when the initial point was not supplied (default of None).\n",
    "\n",
    "Where this becomes useful for examples where we the solution to one problem can be used to for a guess for the solution to a very close similar problem. Chemistry is very good example where we change the inter-atomic distance(s) of molecule to plot a dissociation profile. When the distance changes are small we expect the solution to still be nearby the prior one. One technique is to simply use the optimal point from one solution as the starting point for the next step. Now more complex techniques are possible that do some extrapolation to compute an initial position based on prior solution(s) rather than directly use the prior solution."
   ]
  },
  {
   "cell_type": "markdown",
   "metadata": {},
   "source": [
    "## Expectation\n",
    "\n",
    "The energy of the Hamiltonian operator that VQE is working on is the expectation value when evaluated with the parameterized ansatz. To compute the expectation value VQE uses an instance of an [expectation](https://qiskit.org/documentation/apidoc/qiskit.opflow.expectations.html) object. Such an instance may be supplied via the `expectation` parameter, or in the default case, where it has a value of `None`, VQE will use the [ExpectationFactory](https://qiskit.org/documentation/stubs/qiskit.opflow.expectations.ExpectationFactory.html) to create itself a suitable instance based on the supplied backend.\n",
    "\n",
    "For most cases letting VQE create a suitable instance is sufficient. However the Qiskit Aer aer_simulator supports a snapshot instruction that can be used in conjunction with the operator expectation computation. If used then the outcome is ideal, i.e. like the statevector simulator, and has no shot noise. Since people normally choose the aer_simulator to have shot noise (sampling noise), and be more like a real-device outcome, VQE has an `include_custom` flag that is passed on to the ExpectationFactory. When using Aer qasm simulator, and this is set `True`, the factory will return `AerPauliExpectation`  which uses the snapshot instruction, when `False`, default, then the regular `PauliExpectation` is returned.\n",
    "\n",
    "The following example shows `include_custom=True` where the outcome matches the statevector simulator. In fact it can be better/faster to do this than use the statevector_simulator directly. This is because in the latter case when the Hamiltonian is a sum of Paulis it must be converted to matrix form, and this is avoided when using the snapshot instruction done when include_custom is True."
   ]
  },
  {
   "cell_type": "code",
   "execution_count": 5,
   "metadata": {},
   "outputs": [
    {
     "name": "stdout",
     "output_type": "stream",
     "text": [
      "{   'aux_operator_eigenvalues': None,\n",
      "    'cost_function_evals': 65,\n",
      "    'eigenstate': {'01': 0.9921567416492215, '10': 0.125},\n",
      "    'eigenvalue': (-1.8572750175571595+0j),\n",
      "    'optimal_parameters': {   ParameterVectorElement(θ[2]): 0.5470754193210003,\n",
      "                              ParameterVectorElement(θ[1]): 4.426962242132452,\n",
      "                              ParameterVectorElement(θ[3]): 6.092947857528147,\n",
      "                              ParameterVectorElement(θ[4]): -2.5983258639687397,\n",
      "                              ParameterVectorElement(θ[5]): 1.5683259454122547,\n",
      "                              ParameterVectorElement(θ[6]): -4.717618177195121,\n",
      "                              ParameterVectorElement(θ[7]): 0.36020735708081203,\n",
      "                              ParameterVectorElement(θ[0]): 4.2965205340503685},\n",
      "    'optimal_point': array([ 4.29652053,  4.42696224,  0.54707542,  6.09294786, -2.59832586,\n",
      "        1.56832595, -4.71761818,  0.36020736]),\n",
      "    'optimal_value': -1.8572750175571595,\n",
      "    'optimizer_evals': None,\n",
      "    'optimizer_time': 0.08626842498779297}\n"
     ]
    }
   ],
   "source": [
    "from qiskit import Aer\n",
    "\n",
    "algorithm_globals.random_seed = seed\n",
    "qi = QuantumInstance(Aer.get_backend('aer_simulator'), seed_transpiler=seed, seed_simulator=seed)\n",
    "\n",
    "ansatz = TwoLocal(rotation_blocks='ry', entanglement_blocks='cz')\n",
    "slsqp = SLSQP(maxiter=1000)\n",
    "vqe = VQE(ansatz, optimizer=slsqp, quantum_instance=qi, include_custom=True)\n",
    "result = vqe.compute_minimum_eigenvalue(operator=H2_op)\n",
    "optimal_value1 = result.optimal_value\n",
    "print(result)"
   ]
  },
  {
   "cell_type": "markdown",
   "metadata": {},
   "source": [
    "In case you have doubts here is the aer_simulator again but include_custom has been left to default to False. The optimization ended abruptly, presumably due to the shot noise confusing the SLSQP optimizer."
   ]
  },
  {
   "cell_type": "code",
   "execution_count": 6,
   "metadata": {},
   "outputs": [
    {
     "name": "stdout",
     "output_type": "stream",
     "text": [
      "The optimal value can be seen to be wrong too, i.e. -1.099 versus the correct -1.857.\n",
      "\n",
      "{   'aux_operator_eigenvalues': None,\n",
      "    'cost_function_evals': 9,\n",
      "    'eigenstate': {   '00': 0.7781187248742958,\n",
      "                      '01': 0.4881406047441659,\n",
      "                      '10': 0.39404750665370286,\n",
      "                      '11': 0.03125},\n",
      "    'eigenvalue': (-1.0987888676631705+0j),\n",
      "    'optimal_parameters': {   ParameterVectorElement(θ[7]): 0.6984088030463615,\n",
      "                              ParameterVectorElement(θ[6]): -5.466043598406607,\n",
      "                              ParameterVectorElement(θ[5]): 1.8462931831829383,\n",
      "                              ParameterVectorElement(θ[3]): 5.949536809130025,\n",
      "                              ParameterVectorElement(θ[0]): 3.611860069224077,\n",
      "                              ParameterVectorElement(θ[1]): 4.19301252102391,\n",
      "                              ParameterVectorElement(θ[2]): 0.6019852007557844,\n",
      "                              ParameterVectorElement(θ[4]): -3.3070470445355764},\n",
      "    'optimal_point': array([ 3.61186007,  4.19301252,  0.6019852 ,  5.94953681, -3.30704704,\n",
      "        1.84629318, -5.4660436 ,  0.6984088 ]),\n",
      "    'optimal_value': -1.0987888676631705,\n",
      "    'optimizer_evals': None,\n",
      "    'optimizer_time': 0.8885903358459473}\n"
     ]
    }
   ],
   "source": [
    "algorithm_globals.random_seed = seed\n",
    "qi = QuantumInstance(Aer.get_backend('aer_simulator'), seed_transpiler=seed, seed_simulator=seed)\n",
    "\n",
    "ansatz = TwoLocal(rotation_blocks='ry', entanglement_blocks='cz')\n",
    "slsqp = SLSQP(maxiter=1000)\n",
    "vqe = VQE(ansatz, optimizer=slsqp, quantum_instance=qi)\n",
    "result = vqe.compute_minimum_eigenvalue(operator=H2_op)\n",
    "optimal_value = result.optimal_value\n",
    "print('The optimal value can be seen to be wrong too, i.e. '\n",
    "      f'{optimal_value:.3f} versus the correct {optimal_value1:.3f}.')\n",
    "print()\n",
    "print(result)"
   ]
  },
  {
   "cell_type": "markdown",
   "metadata": {},
   "source": [
    "Changing the optimizer to SPSA, which is designed to work in noisy environments, gets us a better result. Though the noise has affected the outcome so it's not as accurate."
   ]
  },
  {
   "cell_type": "code",
   "execution_count": 7,
   "metadata": {},
   "outputs": [
    {
     "name": "stdout",
     "output_type": "stream",
     "text": [
      "{   'aux_operator_eigenvalues': None,\n",
      "    'cost_function_evals': 200,\n",
      "    'eigenstate': {'01': 0.9916644782889019, '10': 0.1288470508005519},\n",
      "    'eigenvalue': (-1.8627691667457411+0j),\n",
      "    'optimal_parameters': {   ParameterVectorElement(θ[0]): 3.702453458416716,\n",
      "                              ParameterVectorElement(θ[4]): -2.365851315862917,\n",
      "                              ParameterVectorElement(θ[3]): 6.659266627719733,\n",
      "                              ParameterVectorElement(θ[6]): -4.750881193409766,\n",
      "                              ParameterVectorElement(θ[2]): -0.274076481794564,\n",
      "                              ParameterVectorElement(θ[1]): 3.413112968624178,\n",
      "                              ParameterVectorElement(θ[5]): 2.9099466356599697,\n",
      "                              ParameterVectorElement(θ[7]): 0.17033837870153928},\n",
      "    'optimal_point': array([ 3.70245346,  3.41311297, -0.27407648,  6.65926663, -2.36585132,\n",
      "        2.90994664, -4.75088119,  0.17033838]),\n",
      "    'optimal_value': -1.8627691667457411,\n",
      "    'optimizer_evals': None,\n",
      "    'optimizer_time': 21.462223768234253}\n"
     ]
    }
   ],
   "source": [
    "from qiskit.algorithms.optimizers import SPSA\n",
    "\n",
    "algorithm_globals.random_seed = seed\n",
    "qi = QuantumInstance(Aer.get_backend('aer_simulator'), seed_transpiler=seed, seed_simulator=seed)\n",
    "\n",
    "ansatz = TwoLocal(rotation_blocks='ry', entanglement_blocks='cz')\n",
    "slsqp = SPSA(maxiter=100)\n",
    "vqe = VQE(ansatz, optimizer=slsqp, quantum_instance=qi)\n",
    "result = vqe.compute_minimum_eigenvalue(operator=H2_op)\n",
    "print(result)"
   ]
  },
  {
   "cell_type": "markdown",
   "metadata": {},
   "source": [
    "As mentioned above, an expectation object can be explicitly given (so the internal `ExpectationFactory` and include_custom are never used/needed. Below we create an `AerPauliExpectation` and pass this to VQE. We can see the result matches that above where we set include_custom to True and let VQE create its own expectation object."
   ]
  },
  {
   "cell_type": "code",
   "execution_count": 8,
   "metadata": {},
   "outputs": [
    {
     "name": "stdout",
     "output_type": "stream",
     "text": [
      "{   'aux_operator_eigenvalues': None,\n",
      "    'cost_function_evals': 65,\n",
      "    'eigenstate': {'01': 0.9921567416492215, '10': 0.125},\n",
      "    'eigenvalue': (-1.8572750175571595+0j),\n",
      "    'optimal_parameters': {   ParameterVectorElement(θ[1]): 4.426962242132452,\n",
      "                              ParameterVectorElement(θ[3]): 6.092947857528147,\n",
      "                              ParameterVectorElement(θ[6]): -4.717618177195121,\n",
      "                              ParameterVectorElement(θ[5]): 1.5683259454122547,\n",
      "                              ParameterVectorElement(θ[0]): 4.2965205340503685,\n",
      "                              ParameterVectorElement(θ[7]): 0.36020735708081203,\n",
      "                              ParameterVectorElement(θ[4]): -2.5983258639687397,\n",
      "                              ParameterVectorElement(θ[2]): 0.5470754193210003},\n",
      "    'optimal_point': array([ 4.29652053,  4.42696224,  0.54707542,  6.09294786, -2.59832586,\n",
      "        1.56832595, -4.71761818,  0.36020736]),\n",
      "    'optimal_value': -1.8572750175571595,\n",
      "    'optimizer_evals': None,\n",
      "    'optimizer_time': 0.09363484382629395}\n"
     ]
    }
   ],
   "source": [
    "from qiskit.opflow import AerPauliExpectation\n",
    "\n",
    "algorithm_globals.random_seed = seed\n",
    "qi = QuantumInstance(Aer.get_backend('aer_simulator'), seed_transpiler=seed, seed_simulator=seed)\n",
    "\n",
    "ansatz = TwoLocal(rotation_blocks='ry', entanglement_blocks='cz')\n",
    "slsqp = SLSQP(maxiter=1000)\n",
    "vqe = VQE(ansatz, optimizer=slsqp, quantum_instance=qi,\n",
    "          expectation=AerPauliExpectation())\n",
    "result = vqe.compute_minimum_eigenvalue(operator=H2_op)\n",
    "print(result)"
   ]
  },
  {
   "cell_type": "markdown",
   "metadata": {},
   "source": [
    "By default, the `PauliExpectation` object, that would have be chosen when include_custom is False (or when using Aer aer_simulator, or a real device) groups Paulis into commuting sets. This is efficient as it runs less circuits to compute the expectation. However, if for some reason you wanted to run a circuit for each Pauli then then grouping can be turned off when constructing the PauliExpectation. You need to explicitly pass in such an expectation instance to VQE to have it work this way though as shown below."
   ]
  },
  {
   "cell_type": "code",
   "execution_count": 9,
   "metadata": {},
   "outputs": [
    {
     "name": "stdout",
     "output_type": "stream",
     "text": [
      "{   'aux_operator_eigenvalues': None,\n",
      "    'cost_function_evals': 200,\n",
      "    'eigenstate': {'01': 0.9916644782889019, '10': 0.1288470508005519},\n",
      "    'eigenvalue': (-1.8649830308114583+0j),\n",
      "    'optimal_parameters': {   ParameterVectorElement(θ[5]): 2.9887235542230135,\n",
      "                              ParameterVectorElement(θ[7]): 0.18495131387681987,\n",
      "                              ParameterVectorElement(θ[6]): -4.766514920799031,\n",
      "                              ParameterVectorElement(θ[3]): 6.699789960055847,\n",
      "                              ParameterVectorElement(θ[4]): -2.282559635034206,\n",
      "                              ParameterVectorElement(θ[2]): -0.26516964794294456,\n",
      "                              ParameterVectorElement(θ[0]): 3.683395848045204,\n",
      "                              ParameterVectorElement(θ[1]): 3.3827104248942383},\n",
      "    'optimal_point': array([ 3.68339585,  3.38271042, -0.26516965,  6.69978996, -2.28255964,\n",
      "        2.98872355, -4.76651492,  0.18495131]),\n",
      "    'optimal_value': -1.8649830308114583,\n",
      "    'optimizer_evals': None,\n",
      "    'optimizer_time': 19.631860971450806}\n"
     ]
    }
   ],
   "source": [
    "from qiskit.opflow import PauliExpectation\n",
    "\n",
    "algorithm_globals.random_seed = seed\n",
    "qi = QuantumInstance(Aer.get_backend('aer_simulator'), seed_transpiler=seed, seed_simulator=seed)\n",
    "\n",
    "ansatz = TwoLocal(rotation_blocks='ry', entanglement_blocks='cz')\n",
    "slsqp = SPSA(maxiter=100)\n",
    "vqe = VQE(ansatz, optimizer=slsqp, quantum_instance=qi,\n",
    "          expectation=PauliExpectation(group_paulis=False))\n",
    "result = vqe.compute_minimum_eigenvalue(operator=H2_op)\n",
    "print(result)"
   ]
  },
  {
   "cell_type": "markdown",
   "metadata": {},
   "source": [
    "## Gradient\n",
    "\n",
    "Optimizers that use a gradient-based technique can be supplied with a user defined gradient that will be used instead of their default gradient computation which is usually done by simple finite difference. Gradients are passed indirectly via to the optimizer via its `gradient` parameter.\n",
    "\n",
    "As the use of a user supplied `gradient` was shown in the [Monitoring VQE Convergence](02_vqe_convergence.ipynb#Using-Gradient-framework) tutorial I will simply refer you there. Also the [Gradients framework](../operators/02_gradients_framework.ipynb) tutorial has much more about the gradients themselves."
   ]
  },
  {
   "cell_type": "markdown",
   "metadata": {},
   "source": [
    "## Quantum Instance and advanced simulation\n",
    "\n",
    "While you may be familiar with passing a QuantumInstancen created from a `aer_simulator_statevector` a `aer_simulator` or   real device backend, it is possible to use the advanced simulation modes of Aer too when applicable. For instance we can easily use the Aer [Matrix Product State](../simulators/7_matrix_product_state_method.ipynb) method, that has the potential to scale to larger numbers of qubits."
   ]
  },
  {
   "cell_type": "code",
   "execution_count": 10,
   "metadata": {},
   "outputs": [
    {
     "name": "stdout",
     "output_type": "stream",
     "text": [
      "{   'aux_operator_eigenvalues': None,\n",
      "    'cost_function_evals': 65,\n",
      "    'eigenstate': {'01': 0.9921567416492215, '10': 0.125},\n",
      "    'eigenvalue': (-1.8572750175571595+0j),\n",
      "    'optimal_parameters': {   ParameterVectorElement(θ[0]): 4.2965205340503685,\n",
      "                              ParameterVectorElement(θ[7]): 0.36020735708081203,\n",
      "                              ParameterVectorElement(θ[6]): -4.717618177195121,\n",
      "                              ParameterVectorElement(θ[5]): 1.5683259454122547,\n",
      "                              ParameterVectorElement(θ[4]): -2.5983258639687397,\n",
      "                              ParameterVectorElement(θ[3]): 6.092947857528147,\n",
      "                              ParameterVectorElement(θ[2]): 0.5470754193210003,\n",
      "                              ParameterVectorElement(θ[1]): 4.426962242132452},\n",
      "    'optimal_point': array([ 4.29652053,  4.42696224,  0.54707542,  6.09294786, -2.59832586,\n",
      "        1.56832595, -4.71761818,  0.36020736]),\n",
      "    'optimal_value': -1.8572750175571595,\n",
      "    'optimizer_evals': None,\n",
      "    'optimizer_time': 0.08291864395141602}\n"
     ]
    }
   ],
   "source": [
    "algorithm_globals.random_seed = seed\n",
    "\n",
    "from qiskit.providers.aer import QasmSimulator\n",
    "quantum_instance = QuantumInstance(QasmSimulator(method='matrix_product_state'), shots=1)\n",
    "\n",
    "ansatz = TwoLocal(rotation_blocks='ry', entanglement_blocks='cz')\n",
    "slsqp = SLSQP(maxiter=1000)\n",
    "vqe = VQE(ansatz, optimizer=slsqp, quantum_instance=qi, include_custom=True)\n",
    "result = vqe.compute_minimum_eigenvalue(operator=H2_op)\n",
    "print(result)"
   ]
  },
  {
   "cell_type": "code",
   "execution_count": 11,
   "metadata": {},
   "outputs": [
    {
     "data": {
      "text/html": [
       "<h3>Version Information</h3><table><tr><th>Qiskit Software</th><th>Version</th></tr><tr><td><code>qiskit-terra</code></td><td>0.20.2</td></tr><tr><td><code>qiskit-aer</code></td><td>0.10.4</td></tr><tr><td><code>qiskit-ignis</code></td><td>0.7.1</td></tr><tr><td><code>qiskit-ibmq-provider</code></td><td>0.19.1</td></tr><tr><td><code>qiskit</code></td><td>0.36.2</td></tr><tr><td><code>qiskit-nature</code></td><td>0.3.2</td></tr><tr><td><code>qiskit-finance</code></td><td>0.3.1</td></tr><tr><td><code>qiskit-optimization</code></td><td>0.3.2</td></tr><tr><td><code>qiskit-machine-learning</code></td><td>0.4.0</td></tr><tr><th>System information</th></tr><tr><td>Python version</td><td>3.8.13</td></tr><tr><td>Python compiler</td><td>GCC 10.3.0</td></tr><tr><td>Python build</td><td>default, Mar 25 2022 06:04:10</td></tr><tr><td>OS</td><td>Linux</td></tr><tr><td>CPUs</td><td>8</td></tr><tr><td>Memory (Gb)</td><td>31.211315155029297</td></tr><tr><td colspan='2'>Mon Jun 13 16:21:58 2022 UTC</td></tr></table>"
      ],
      "text/plain": [
       "<IPython.core.display.HTML object>"
      ]
     },
     "metadata": {},
     "output_type": "display_data"
    },
    {
     "data": {
      "text/html": [
       "<div style='width: 100%; background-color:#d5d9e0;padding-left: 10px; padding-bottom: 10px; padding-right: 10px; padding-top: 5px'><h3>This code is a part of Qiskit</h3><p>&copy; Copyright IBM 2017, 2022.</p><p>This code is licensed under the Apache License, Version 2.0. You may<br>obtain a copy of this license in the LICENSE.txt file in the root directory<br> of this source tree or at http://www.apache.org/licenses/LICENSE-2.0.<p>Any modifications or derivative works of this code must retain this<br>copyright notice, and modified files need to carry a notice indicating<br>that they have been altered from the originals.</p></div>"
      ],
      "text/plain": [
       "<IPython.core.display.HTML object>"
      ]
     },
     "metadata": {},
     "output_type": "display_data"
    }
   ],
   "source": [
    "import qiskit.tools.jupyter\n",
    "%qiskit_version_table\n",
    "%qiskit_copyright"
   ]
  },
  {
   "cell_type": "code",
   "execution_count": null,
   "metadata": {},
   "outputs": [],
   "source": []
  }
 ],
 "metadata": {
  "kernelspec": {
   "display_name": "Python 3 (ipykernel)",
   "language": "python",
   "name": "python3"
  },
  "language_info": {
   "codemirror_mode": {
    "name": "ipython",
    "version": 3
   },
   "file_extension": ".py",
   "mimetype": "text/x-python",
   "name": "python",
   "nbconvert_exporter": "python",
   "pygments_lexer": "ipython3",
   "version": "3.8.13"
  },
  "widgets": {
   "application/vnd.jupyter.widget-state+json": {
    "state": {
     "0c1c683e09cd433b947d1239a6fe130d": {
      "model_module": "@jupyter-widgets/controls",
      "model_module_version": "1.5.0",
      "model_name": "ButtonModel",
      "state": {
       "button_style": "primary",
       "description": "Clear",
       "layout": "IPY_MODEL_615ada92cdb446a2ad0201240bbd17d7",
       "style": "IPY_MODEL_98bb1352a5be4ca9816de59087ed4ffa"
      }
     },
     "1c51663422d44f0891cc1c724674195e": {
      "model_module": "@jupyter-widgets/controls",
      "model_module_version": "1.5.0",
      "model_name": "HBoxModel",
      "state": {
       "children": [
        "IPY_MODEL_69c2e74e1b7d41939c960b42cbfe5d27",
        "IPY_MODEL_ea77b946d59948d5a5e4372a8b87b6cd",
        "IPY_MODEL_9f632a505c9b43838f9eb9874742f370",
        "IPY_MODEL_2b42af3a77214b668409334e256d929c",
        "IPY_MODEL_ce30f181a4e54ae6905272dcd57e56f8"
       ],
       "layout": "IPY_MODEL_501142ed479341cebaa41d104126bb54"
      }
     },
     "1e470fd1115043e09d267d1460a29383": {
      "model_module": "@jupyter-widgets/controls",
      "model_module_version": "1.5.0",
      "model_name": "HTMLModel",
      "state": {
       "layout": "IPY_MODEL_5573274c41924a7387739d0d700ff469",
       "style": "IPY_MODEL_51861cbe7f8146508b8bf50dc43f82e0",
       "value": "<p style='font-family: IBM Plex Sans, Arial, Helvetica, sans-serif; font-size: 20px; font-weight: medium;'>Circuit Properties</p>"
      }
     },
     "2b42af3a77214b668409334e256d929c": {
      "model_module": "@jupyter-widgets/controls",
      "model_module_version": "1.5.0",
      "model_name": "HTMLModel",
      "state": {
       "layout": "IPY_MODEL_caac078d7fe74ccd8b8c72539e4e996b",
       "style": "IPY_MODEL_9c0a1395107f40e8a21f4cca46908b9d",
       "value": "<h5>Queue</h5>"
      }
     },
     "501142ed479341cebaa41d104126bb54": {
      "model_module": "@jupyter-widgets/base",
      "model_module_version": "1.2.0",
      "model_name": "LayoutModel",
      "state": {
       "margin": "0px 0px 0px 37px",
       "width": "600px"
      }
     },
     "51861cbe7f8146508b8bf50dc43f82e0": {
      "model_module": "@jupyter-widgets/controls",
      "model_module_version": "1.5.0",
      "model_name": "DescriptionStyleModel",
      "state": {
       "description_width": ""
      }
     },
     "5573274c41924a7387739d0d700ff469": {
      "model_module": "@jupyter-widgets/base",
      "model_module_version": "1.2.0",
      "model_name": "LayoutModel",
      "state": {
       "margin": "0px 0px 10px 0px"
      }
     },
     "615ada92cdb446a2ad0201240bbd17d7": {
      "model_module": "@jupyter-widgets/base",
      "model_module_version": "1.2.0",
      "model_name": "LayoutModel",
      "state": {
       "grid_area": "right",
       "padding": "0px 0px 0px 0px",
       "width": "70px"
      }
     },
     "69c2e74e1b7d41939c960b42cbfe5d27": {
      "model_module": "@jupyter-widgets/controls",
      "model_module_version": "1.5.0",
      "model_name": "HTMLModel",
      "state": {
       "layout": "IPY_MODEL_ac9c52f1b08341e4ac489ce996dddef3",
       "style": "IPY_MODEL_edf5ef2520114123b496067c16fbdab6",
       "value": "<h5>Job ID</h5>"
      }
     },
     "83fa3f03887d4feaa10997235b3cc9c0": {
      "model_module": "@jupyter-widgets/base",
      "model_module_version": "1.2.0",
      "model_name": "LayoutModel",
      "state": {
       "width": "95px"
      }
     },
     "87aa4bd6f28e4bbc83022fdda8858539": {
      "model_module": "@jupyter-widgets/controls",
      "model_module_version": "1.5.0",
      "model_name": "DescriptionStyleModel",
      "state": {
       "description_width": ""
      }
     },
     "8a1efc06e4394c62abd8b31de0c8fbb5": {
      "model_module": "@jupyter-widgets/controls",
      "model_module_version": "1.5.0",
      "model_name": "GridBoxModel",
      "state": {
       "children": [
        "IPY_MODEL_0c1c683e09cd433b947d1239a6fe130d"
       ],
       "layout": "IPY_MODEL_c292924cdfb546dbb44561764ba9776f"
      }
     },
     "981dd423289049a08a0ea7e6cd7cd5ef": {
      "model_module": "@jupyter-widgets/controls",
      "model_module_version": "1.5.0",
      "model_name": "DescriptionStyleModel",
      "state": {
       "description_width": ""
      }
     },
     "98bb1352a5be4ca9816de59087ed4ffa": {
      "model_module": "@jupyter-widgets/controls",
      "model_module_version": "1.5.0",
      "model_name": "ButtonStyleModel",
      "state": {}
     },
     "9c0a1395107f40e8a21f4cca46908b9d": {
      "model_module": "@jupyter-widgets/controls",
      "model_module_version": "1.5.0",
      "model_name": "DescriptionStyleModel",
      "state": {
       "description_width": ""
      }
     },
     "9f632a505c9b43838f9eb9874742f370": {
      "model_module": "@jupyter-widgets/controls",
      "model_module_version": "1.5.0",
      "model_name": "HTMLModel",
      "state": {
       "layout": "IPY_MODEL_83fa3f03887d4feaa10997235b3cc9c0",
       "style": "IPY_MODEL_c91eba2a276f4ba9be7c30eaaafdbc36",
       "value": "<h5>Status</h5>"
      }
     },
     "ac9c52f1b08341e4ac489ce996dddef3": {
      "model_module": "@jupyter-widgets/base",
      "model_module_version": "1.2.0",
      "model_name": "LayoutModel",
      "state": {
       "width": "190px"
      }
     },
     "c292924cdfb546dbb44561764ba9776f": {
      "model_module": "@jupyter-widgets/base",
      "model_module_version": "1.2.0",
      "model_name": "LayoutModel",
      "state": {
       "grid_template_areas": "\n                                       \". . . . right \"\n                                        ",
       "grid_template_columns": "20% 20% 20% 20% 20%",
       "width": "100%"
      }
     },
     "c91eba2a276f4ba9be7c30eaaafdbc36": {
      "model_module": "@jupyter-widgets/controls",
      "model_module_version": "1.5.0",
      "model_name": "DescriptionStyleModel",
      "state": {
       "description_width": ""
      }
     },
     "caac078d7fe74ccd8b8c72539e4e996b": {
      "model_module": "@jupyter-widgets/base",
      "model_module_version": "1.2.0",
      "model_name": "LayoutModel",
      "state": {
       "width": "70px"
      }
     },
     "ce30f181a4e54ae6905272dcd57e56f8": {
      "model_module": "@jupyter-widgets/controls",
      "model_module_version": "1.5.0",
      "model_name": "HTMLModel",
      "state": {
       "layout": "IPY_MODEL_d3528f46ab2c49729d3ecae126f5ae74",
       "style": "IPY_MODEL_87aa4bd6f28e4bbc83022fdda8858539",
       "value": "<h5>Message</h5>"
      }
     },
     "d3528f46ab2c49729d3ecae126f5ae74": {
      "model_module": "@jupyter-widgets/base",
      "model_module_version": "1.2.0",
      "model_name": "LayoutModel",
      "state": {}
     },
     "ea77b946d59948d5a5e4372a8b87b6cd": {
      "model_module": "@jupyter-widgets/controls",
      "model_module_version": "1.5.0",
      "model_name": "HTMLModel",
      "state": {
       "layout": "IPY_MODEL_eff97cab952f41e18e5c0265234d2e8f",
       "style": "IPY_MODEL_981dd423289049a08a0ea7e6cd7cd5ef",
       "value": "<h5>Backend</h5>"
      }
     },
     "edf5ef2520114123b496067c16fbdab6": {
      "model_module": "@jupyter-widgets/controls",
      "model_module_version": "1.5.0",
      "model_name": "DescriptionStyleModel",
      "state": {
       "description_width": ""
      }
     },
     "eff97cab952f41e18e5c0265234d2e8f": {
      "model_module": "@jupyter-widgets/base",
      "model_module_version": "1.2.0",
      "model_name": "LayoutModel",
      "state": {
       "width": "145px"
      }
     }
    },
    "version_major": 2,
    "version_minor": 0
   }
  }
 },
 "nbformat": 4,
 "nbformat_minor": 4
}
